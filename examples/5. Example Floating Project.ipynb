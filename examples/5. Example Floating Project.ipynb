{
 "cells": [
  {
   "cell_type": "markdown",
   "metadata": {},
   "source": [
    "#### Jake Nunemaker\n",
    "\n",
    "National Renewable Energy Lab\n",
    "\n",
    "Last updated: 12/23/2020"
   ]
  },
  {
   "cell_type": "code",
   "execution_count": 1,
   "metadata": {
    "tags": []
   },
   "outputs": [],
   "source": [
    "import os\n",
    "import pandas as pd\n",
    "from ORBIT import ProjectManager, load_config\n",
    "#from ORBIT.phases.install.storage_install import MooredFESInstallation\n",
    "\n",
    "weather = pd.read_csv(\"data/example_weather.csv\", parse_dates=[\"datetime\"])\\\n",
    "            .set_index(\"datetime\")"
   ]
  },
  {
   "cell_type": "markdown",
   "metadata": {},
   "source": [
    "### Load the project configuration"
   ]
  },
  {
   "cell_type": "code",
   "execution_count": 2,
   "metadata": {
    "tags": []
   },
   "outputs": [
    {
     "name": "stdout",
     "output_type": "stream",
     "text": [
      "Num turbines: 50\n",
      "Turbine: 12MW_generic\n",
      "\n",
      "Site: {'depth': 900, 'distance': 100, 'distance_to_landfall': 100}\n"
     ]
    }
   ],
   "source": [
    "fixed_config = load_config(\"configs/example_floating_project.yaml\") \n",
    "\n",
    "print(f\"Num turbines: {fixed_config['plant']['num_turbines']}\")\n",
    "print(f\"Turbine: {fixed_config['turbine']}\")\n",
    "print(f\"\\nSite: {fixed_config['site']}\")"
   ]
  },
  {
   "cell_type": "markdown",
   "metadata": {},
   "source": [
    "### Phases"
   ]
  },
  {
   "cell_type": "code",
   "execution_count": 3,
   "metadata": {
    "tags": []
   },
   "outputs": [
    {
     "name": "stdout",
     "output_type": "stream",
     "text": [
      "Design phases: ['ArraySystemDesign', 'ExportSystemDesign', 'MooringSystemDesign', 'OffshoreSubstationDesign', 'SemiSubmersibleDesign', 'SemiSubStorageDesign']\n",
      "\n",
      "Install phases: ['ArrayCableInstallation', 'ExportCableInstallation', 'MooredSubInstallation', 'MooringSystemInstallation', 'OffshoreSubstationInstallation', 'TurbineInstallation', 'SemiSubStorageInstallation']\n"
     ]
    }
   ],
   "source": [
    "print(f\"Design phases: {fixed_config['design_phases']}\")\n",
    "print(f\"\\nInstall phases: {list(fixed_config['install_phases'].keys())}\")"
   ]
  },
  {
   "cell_type": "markdown",
   "metadata": {},
   "source": [
    "### Run"
   ]
  },
  {
   "cell_type": "code",
   "execution_count": 4,
   "metadata": {
    "tags": []
   },
   "outputs": [
    {
     "name": "stdout",
     "output_type": "stream",
     "text": [
      "ORBIT library intialized at '/Users/admin/ORBIT/library'\n"
     ]
    }
   ],
   "source": [
    "project = ProjectManager(fixed_config, weather=weather)\n",
    "project.run()"
   ]
  },
  {
   "cell_type": "markdown",
   "metadata": {},
   "source": [
    "### Top Level Outputs"
   ]
  },
  {
   "cell_type": "code",
   "execution_count": 5,
   "metadata": {
    "tags": []
   },
   "outputs": [
    {
     "name": "stdout",
     "output_type": "stream",
     "text": [
      "Installation CapEx:  393 M\n",
      "System CapEx:       1219 M\n",
      "Turbine CapEx:       780 M\n",
      "Soft CapEx:          387 M\n",
      "Total CapEx:        2930 M\n",
      "\n",
      "Installation Time: 36293 h\n"
     ]
    }
   ],
   "source": [
    "print(f\"Installation CapEx:  {project.installation_capex/1e6:.0f} M\")\n",
    "print(f\"System CapEx:       {project.system_capex/1e6:.0f} M\")\n",
    "print(f\"Turbine CapEx:       {project.turbine_capex/1e6:.0f} M\")\n",
    "print(f\"Soft CapEx:          {project.soft_capex/1e6:.0f} M\")\n",
    "print(f\"Total CapEx:        {project.total_capex/1e6:.0f} M\")\n",
    "\n",
    "print(f\"\\nInstallation Time: {project.installation_time:.0f} h\")"
   ]
  },
  {
   "cell_type": "markdown",
   "metadata": {},
   "source": [
    "### CapEx Breakdown"
   ]
  },
  {
   "cell_type": "code",
   "execution_count": 6,
   "metadata": {
    "tags": []
   },
   "outputs": [
    {
     "data": {
      "text/plain": [
       "{'Array System': 56983076.60642063,\n",
       " 'Export System': 103712476.9152,\n",
       " 'Substructure': 630709636.6,\n",
       " 'Mooring System': 331379224.80820334,\n",
       " 'Offshore Substation': 83413425.0,\n",
       " 'Energy Storage': 12614192.732,\n",
       " 'Array System Installation': 22844527.896071255,\n",
       " 'Export System Installation': 29232439.646569446,\n",
       " 'Substructure Installation': 79182122.33637744,\n",
       " 'Mooring System Installation': 50094520.5479452,\n",
       " 'Offshore Substation Installation': 4335233.900304414,\n",
       " 'Turbine Installation': 127738070.77625567,\n",
       " 'Energy Storage Installation': 79182122.33637744,\n",
       " 'Turbine': 780000000,\n",
       " 'Soft': 387000000,\n",
       " 'Project': 151250000.0}"
      ]
     },
     "execution_count": 6,
     "metadata": {},
     "output_type": "execute_result"
    }
   ],
   "source": [
    "project.capex_breakdown"
   ]
  },
  {
   "cell_type": "markdown",
   "metadata": {},
   "source": [
    "### Installation Actions"
   ]
  },
  {
   "cell_type": "code",
   "execution_count": 7,
   "metadata": {
    "tags": []
   },
   "outputs": [],
   "source": [
    "pd.DataFrame(project.actions)\n",
    "\n",
    "actions = pd.DataFrame(project.actions)\n",
    "actions.to_excel('actionsfloatingexample.xlsx')"
   ]
  },
  {
   "cell_type": "code",
   "execution_count": null,
   "metadata": {},
   "outputs": [],
   "source": []
  }
 ],
 "metadata": {
  "kernelspec": {
   "display_name": "Python 3 (ipykernel)",
   "language": "python",
   "name": "python3"
  },
  "language_info": {
   "codemirror_mode": {
    "name": "ipython",
    "version": 3
   },
   "file_extension": ".py",
   "mimetype": "text/x-python",
   "name": "python",
   "nbconvert_exporter": "python",
   "pygments_lexer": "ipython3",
   "version": "3.7.12"
  }
 },
 "nbformat": 4,
 "nbformat_minor": 4
}
