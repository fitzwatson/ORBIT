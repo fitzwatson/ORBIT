{
 "cells": [
  {
   "cell_type": "code",
   "execution_count": 2,
   "id": "daea9098-f914-441d-8275-14f499db8f65",
   "metadata": {
    "tags": []
   },
   "outputs": [
    {
     "ename": "SyntaxError",
     "evalue": "invalid syntax (3971867180.py, line 1)",
     "output_type": "error",
     "traceback": [
      "\u001b[0;36m  File \u001b[0;32m\"/var/folders/0s/jzh7_26j5175g1x6szx0dqfw0000gn/T/ipykernel_26826/3971867180.py\"\u001b[0;36m, line \u001b[0;32m1\u001b[0m\n\u001b[0;31m    from Users/admin/Desktop/old orbits/ORBIT 11_30/ORBIT/phases/design/ import floating_energy_storage.py\u001b[0m\n\u001b[0m              ^\u001b[0m\n\u001b[0;31mSyntaxError\u001b[0m\u001b[0;31m:\u001b[0m invalid syntax\n"
     ]
    }
   ],
   "source": [
    "from Users/admin/Desktop/old orbits/ORBIT 11_30/ORBIT/phases/design/ import floating_energy_storage.py"
   ]
  },
  {
   "cell_type": "code",
   "execution_count": null,
   "id": "a6378bd2-c363-4ad9-baf7-343918a902b1",
   "metadata": {},
   "outputs": [],
   "source": []
  }
 ],
 "metadata": {
  "kernelspec": {
   "display_name": "Python 3 (ipykernel)",
   "language": "python",
   "name": "python3"
  },
  "language_info": {
   "codemirror_mode": {
    "name": "ipython",
    "version": 3
   },
   "file_extension": ".py",
   "mimetype": "text/x-python",
   "name": "python",
   "nbconvert_exporter": "python",
   "pygments_lexer": "ipython3",
   "version": "3.7.12"
  }
 },
 "nbformat": 4,
 "nbformat_minor": 5
}
